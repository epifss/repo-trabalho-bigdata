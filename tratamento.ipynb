{
  "nbformat": 4,
  "nbformat_minor": 0,
  "metadata": {
    "colab": {
      "provenance": [],
      "mount_file_id": "1MnWeHea7pz6FQhxYS8jGzQV6PtC176Tt",
      "authorship_tag": "ABX9TyMChCXzVywySSYATxGSSf2b",
      "include_colab_link": true
    },
    "kernelspec": {
      "name": "python3",
      "display_name": "Python 3"
    },
    "language_info": {
      "name": "python"
    }
  },
  "cells": [
    {
      "cell_type": "markdown",
      "metadata": {
        "id": "view-in-github",
        "colab_type": "text"
      },
      "source": [
        "<a href=\"https://colab.research.google.com/github/epifss/repo-trabalho-bigdata/blob/main/tratamento.ipynb\" target=\"_parent\"><img src=\"https://colab.research.google.com/assets/colab-badge.svg\" alt=\"Open In Colab\"/></a>"
      ]
    },
    {
      "cell_type": "code",
      "source": [
        "import pandas as pd"
      ],
      "metadata": {
        "id": "5q046o3k2yjO"
      },
      "execution_count": 1,
      "outputs": []
    },
    {
      "cell_type": "code",
      "source": [
        "notas= pd.read_excel('notas.xlsx')\n",
        "notas2= pd.read_excel('notasB.xlsx')\n",
        "alunos = pd.concat([notas, notas2], ignore_index=True)\n",
        "alunos['aluno'] = [f'aluno {i+1}' for i in range(len(alunos))]\n",
        "ordem_colunas = ['aluno'] + [col for col in alunos.columns if col != 'aluno']\n",
        "alunos = alunos[ordem_colunas]\n",
        "alunos['Período'] = 'p' + alunos['Período'].astype(str)\n",
        "alunos= alunos.drop(columns=['Disciplina','Turno'])\n",
        "alunos.to_excel('alunos.xlsx', index=False)\n"
      ],
      "metadata": {
        "id": "XCePcQ29e0da"
      },
      "execution_count": 2,
      "outputs": []
    },
    {
      "cell_type": "code",
      "source": [
        "online2019=alunos.query('Modalidade==\"Online\"').query('Período==\"p2019.2\"')\n",
        "online2020=alunos.query('Modalidade==\"Online\"').query('Período==\"p2020.2\"')\n",
        "online2022=alunos.query('Modalidade==\"Online\"').query('Período==\"p2022.1\"')\n",
        "presencial2019=alunos.query('Modalidade==\"Presencial\"').query('Período==\"p2019.2\"')\n",
        "presencial2022=alunos.query('Modalidade==\"Presencial\"').query('Período==\"p2022.1\"')\n",
        "online=alunos.query('Modalidade==\"Online\"')\n",
        "presencial=alunos.query('Modalidade==\"Presencial\"')\n"
      ],
      "metadata": {
        "id": "yRPMQ1x4AeTE"
      },
      "execution_count": 3,
      "outputs": []
    },
    {
      "cell_type": "code",
      "source": [
        "online2019.to_excel('online2019.xlsx', index=False)\n",
        "online2020.to_excel('online2020.xlsx', index=False)\n",
        "online2022.to_excel('online2022.xlsx', index=False)\n",
        "presencial2019.to_excel('presencial2019.xlsx', index=False)\n",
        "presencial2022.to_excel('presencial2022.xlsx', index=False)\n",
        "online.to_excel('online.xlsx',index=False)\n",
        "presencial.to_excel('presencial.xlsx',index=False)"
      ],
      "metadata": {
        "id": "dhvLDMWI1mcB"
      },
      "execution_count": 4,
      "outputs": []
    },
    {
      "cell_type": "code",
      "source": [
        "git clone\n"
      ],
      "metadata": {
        "id": "0dDY6VF9cmOK"
      },
      "execution_count": null,
      "outputs": []
    }
  ]
}